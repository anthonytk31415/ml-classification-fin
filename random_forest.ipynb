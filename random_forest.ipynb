{
 "cells": [
  {
   "cell_type": "markdown",
   "metadata": {},
   "source": [
    "Import necessary Modules"
   ]
  },
  {
   "cell_type": "code",
   "execution_count": 3,
   "metadata": {},
   "outputs": [],
   "source": [
    "import pandas as pd\n",
    "import numpy as np\n",
    "import matplotlib.pyplot as plt\n",
    "from get_dataset import X\n",
    "from get_dataset import y\n",
    "\n",
    "from sklearn.model_selection import train_test_split\n",
    "from sklearn.ensemble import RandomForestClassifier\n",
    "from sklearn.tree import DecisionTreeClassifier, plot_tree\n",
    "\n",
    "seed = 1234"
   ]
  },
  {
   "cell_type": "markdown",
   "metadata": {},
   "source": [
    "Setup the training data"
   ]
  },
  {
   "cell_type": "code",
   "execution_count": null,
   "metadata": {},
   "outputs": [],
   "source": [
    "X_train, X_test, y_train, y_test = train_test_split(X, y, test_size=0.1, random_state=seed, shuffle=True)\n",
    "\n",
    "\n",
    "\n",
    "decisionTreeDepthData = {\n",
    "    'Max Depth': [],\n",
    "    'Training Accuracy': [],\n",
    "    'Testing Accuracy': []\n",
    "}\n",
    "depths = [1, 2, 5, 10, 15, 20]\n",
    "\n",
    "for depth in depths:\n",
    "    decisionTreeModel = RandomForestClassifier(max_depth=depth, random_state=seed)\n",
    "    decisionTreeModel.fit(X_train, y_train)\n",
    "    decisionTreeDepthData['Training Accuracy'].append(decisionTreeModel.score(X_train, y_train))\n",
    "    decisionTreeDepthData['Testing Accuracy'].append(decisionTreeModel.score(X_test, y_test))\n",
    "    decisionTreeDepthData['Max Depth'].append(depth)\n",
    "\n",
    "\n",
    "plt.plot(depths, decisionTreeDepthData['Training Accuracy'], label=\"Training Accuracy\")\n",
    "plt.plot(depths, decisionTreeDepthData['Testing Accuracy'], label=\"Testing Accuracy\")\n",
    "plt.legend()\n",
    "plt.title('Training and Testing Accuracy vs. Depth')\n",
    "plt.xlabel('Depth')\n",
    "plt.ylabel('Accuracy')\n",
    "plt.show()"
   ]
  }
 ],
 "metadata": {
  "kernelspec": {
   "display_name": "base",
   "language": "python",
   "name": "python3"
  },
  "language_info": {
   "codemirror_mode": {
    "name": "ipython",
    "version": 3
   },
   "file_extension": ".py",
   "mimetype": "text/x-python",
   "name": "python",
   "nbconvert_exporter": "python",
   "pygments_lexer": "ipython3",
   "version": "3.11.5"
  }
 },
 "nbformat": 4,
 "nbformat_minor": 2
}
