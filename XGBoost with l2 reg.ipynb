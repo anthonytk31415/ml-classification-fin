{
 "cells": [
  {
   "cell_type": "code",
   "execution_count": 1,
   "id": "a9134572",
   "metadata": {},
   "outputs": [
    {
     "name": "stdout",
     "output_type": "stream",
     "text": [
      "Training XGBoost model with L2 regularization...\n",
      "XGBoost Model Accuracy: 0.9070\n",
      "\n",
      "Classification Report:\n",
      "              precision    recall  f1-score   support\n",
      "\n",
      "           0       0.93      0.97      0.95      7952\n",
      "           1       0.66      0.47      0.55      1091\n",
      "\n",
      "    accuracy                           0.91      9043\n",
      "   macro avg       0.79      0.72      0.75      9043\n",
      "weighted avg       0.90      0.91      0.90      9043\n",
      "\n",
      "\n",
      "Confusion Matrix:\n",
      "[[7684  268]\n",
      " [ 573  518]]\n",
      "\n",
      "XGBoost Final Test Accuracy: 0.9070\n"
     ]
    },
    {
     "data": {
      "text/plain": [
       "0.9069998894172288"
      ]
     },
     "execution_count": 1,
     "metadata": {},
     "output_type": "execute_result"
    }
   ],
   "source": [
    "import numpy as np\n",
    "import xgboost as xgb\n",
    "from sklearn.model_selection import train_test_split\n",
    "from sklearn.metrics import accuracy_score, classification_report, confusion_matrix\n",
    "import torch\n",
    "from torch.utils.data import DataLoader, TensorDataset\n",
    "\n",
    "from get_dataset import X\n",
    "from get_dataset import y\n",
    "\n",
    "# Step 1: Split the data into training and testing sets\n",
    "X_train, X_test, y_train, y_test = train_test_split(X, y, test_size=0.2, random_state=42)\n",
    "\n",
    "# Step 2: Train XGBoost model with L2 (R2) regularization\n",
    "print(\"Training XGBoost model with L2 regularization...\")\n",
    "xgb_model = xgb.XGBClassifier(\n",
    "    n_estimators=200,\n",
    "    learning_rate=0.2,\n",
    "    max_depth=4,\n",
    "    subsample=0.8,\n",
    "    colsample_bytree=0.9,\n",
    "    reg_lambda=10,  # L2 Regularization\n",
    "    objective='binary:logistic',\n",
    "    random_state=42\n",
    ")\n",
    "xgb_model.fit(X_train, y_train)\n",
    "\n",
    "# Step 3: Make predictions and evaluate the model\n",
    "y_pred = xgb_model.predict(X_test)\n",
    "accuracy = accuracy_score(y_test, y_pred)\n",
    "print(f\"XGBoost Model Accuracy: {accuracy:.4f}\")\n",
    "print(\"\\nClassification Report:\")\n",
    "print(classification_report(y_test, y_pred))\n",
    "print(\"\\nConfusion Matrix:\")\n",
    "print(confusion_matrix(y_test, y_pred))\n",
    "\n",
    "# Step 4: PyTorch integration\n",
    "X_train_tensor = torch.FloatTensor(X_train)\n",
    "y_train_tensor = torch.FloatTensor(y_train)\n",
    "X_test_tensor = torch.FloatTensor(X_test)\n",
    "y_test_tensor = torch.FloatTensor(y_test)\n",
    "\n",
    "train_dataset = TensorDataset(X_train_tensor, y_train_tensor)\n",
    "test_dataset = TensorDataset(X_test_tensor, y_test_tensor)\n",
    "\n",
    "train_loader = DataLoader(train_dataset, batch_size=32, shuffle=True)\n",
    "test_loader = DataLoader(test_dataset, batch_size=32, shuffle=False)\n",
    "\n",
    "# Training XGBoost with PyTorch DataLoader\n",
    "def train_xgb_with_pytorch_loader(train_loader):\n",
    "    all_X, all_y = [], []\n",
    "    for X_batch, y_batch in train_loader:\n",
    "        all_X.append(X_batch.numpy())\n",
    "        all_y.append(y_batch.numpy())\n",
    "    \n",
    "    X_train_combined = np.vstack(all_X)\n",
    "    y_train_combined = np.concatenate(all_y)\n",
    "    \n",
    "    xgb_model_from_loader = xgb.XGBClassifier(\n",
    "        n_estimators=100,\n",
    "        learning_rate=0.1,\n",
    "        max_depth=4,\n",
    "        reg_lambda=10,\n",
    "        objective='binary:logistic',\n",
    "        random_state=42\n",
    "    )\n",
    "    xgb_model_from_loader.fit(X_train_combined, y_train_combined)\n",
    "    return xgb_model_from_loader\n",
    "\n",
    "xgb_model_pytorch = train_xgb_with_pytorch_loader(train_loader)\n",
    "\n",
    "def evaluate_models(xgb_model, test_loader):\n",
    "    X_test_np = X_test\n",
    "    y_test_np = y_test\n",
    "    y_pred_xgb = xgb_model.predict(X_test_np)\n",
    "    xgb_accuracy = accuracy_score(y_test_np, y_pred_xgb)\n",
    "    print(f\"\\nXGBoost Final Test Accuracy: {xgb_accuracy:.4f}\")\n",
    "    return xgb_accuracy\n",
    "\n",
    "evaluate_models(xgb_model, test_loader)\n"
   ]
  },
  {
   "cell_type": "code",
   "execution_count": null,
   "id": "dafa036b",
   "metadata": {},
   "outputs": [],
   "source": []
  }
 ],
 "metadata": {
  "kernelspec": {
   "display_name": "Python 3 (ipykernel)",
   "language": "python",
   "name": "python3"
  },
  "language_info": {
   "codemirror_mode": {
    "name": "ipython",
    "version": 3
   },
   "file_extension": ".py",
   "mimetype": "text/x-python",
   "name": "python",
   "nbconvert_exporter": "python",
   "pygments_lexer": "ipython3",
   "version": "3.11.5"
  }
 },
 "nbformat": 4,
 "nbformat_minor": 5
}
